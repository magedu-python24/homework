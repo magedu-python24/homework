{
 "cells": [
  {
   "cell_type": "markdown",
   "metadata": {},
   "source": [
    "\n",
    "1. 理解并发 与 并行<br>\n",
    "2. 理解线程 与 进程，并说明它们的应用场景<br>\n",
    "3. Python中的GIL是什么，它影响什么<br>\n",
    "4. 结合本周知识现实如下功能：<br>\n",
    "   创建两个线程，其中一个输出1-26，另外一个输出A-Z<br>\n",
    "   要求最终程序输出格式为： 1A 2B 3C ... <br>\n",
    "\n",
    "\n",
    "\n",
    "\n",
    "\n",
    "\n",
    "\n",
    "\n",
    "\n",
    "\n",
    "\n",
    "\n",
    "\n",
    "\n",
    "\n",
    "\n",
    "\n"
   ]
  },
  {
   "cell_type": "markdown",
   "metadata": {},
   "source": [
    "# 1. 理解并发 与 并行"
   ]
  },
  {
   "cell_type": "markdown",
   "metadata": {},
   "source": [
    "并行:parallel,同時做某些事，可以互不干擾的同一時刻做幾件事"
   ]
  },
  {
   "cell_type": "markdown",
   "metadata": {},
   "source": [
    "并發：concurrency,一個時間段内有一些事情要做"
   ]
  },
  {
   "cell_type": "markdown",
   "metadata": {},
   "source": [
    "# 2. 理解线程 与 进程，并说明它们的应用场景"
   ]
  },
  {
   "cell_type": "markdown",
   "metadata": {},
   "source": [
    "綫程是操作系統能夠進行運算調度的最小單位，它被包含在進程之中，是進程中的實際運作單位。<br>\n",
    "一個程序的執行實例就是一個進程<br>"
   ]
  },
  {
   "cell_type": "markdown",
   "metadata": {},
   "source": [
    "進程是程序關於某數據集合上的一次運行活動，是系統進行資源分配和調度的單位，是操作系統的基礎"
   ]
  },
  {
   "cell_type": "markdown",
   "metadata": {},
   "source": [
    "# 3. Python中的GIL是什么，它影响什么"
   ]
  },
  {
   "cell_type": "markdown",
   "metadata": {},
   "source": [
    "在CPython中，GIL是全局解釋器鎖，這把鎖只能允許一個CPU上的一個綫程在運行。<br>\n",
    "尤其在CPU密集型程序中，多綫程沒有優勢，因爲GIL只允許一個綫程運行<br>"
   ]
  },
  {
   "cell_type": "markdown",
   "metadata": {},
   "source": [
    "# 4. 结合本周知识现实如下功能：<br>\n",
    "   创建两个线程，其中一个输出1-26，另外一个输出A-Z<br>\n",
    "   要求最终程序输出格式为： 1A 2B 3C ... <br>"
   ]
  },
  {
   "cell_type": "markdown",
   "metadata": {},
   "source": [
    "見py 文件"
   ]
  },
  {
   "cell_type": "code",
   "execution_count": null,
   "metadata": {},
   "outputs": [],
   "source": []
  }
 ],
 "metadata": {
  "kernelspec": {
   "display_name": "Python 3",
   "language": "python",
   "name": "python3"
  },
  "language_info": {
   "codemirror_mode": {
    "name": "ipython",
    "version": 3
   },
   "file_extension": ".py",
   "mimetype": "text/x-python",
   "name": "python",
   "nbconvert_exporter": "python",
   "pygments_lexer": "ipython3",
   "version": "3.6.8"
  }
 },
 "nbformat": 4,
 "nbformat_minor": 2
}

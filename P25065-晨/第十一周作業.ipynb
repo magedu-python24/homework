{
 "cells": [
  {
   "cell_type": "markdown",
   "metadata": {},
   "source": [
    "# 1. 根据本周异常相关视频，总结try/except/else/finally的用法及如何自定义异常"
   ]
  },
  {
   "cell_type": "markdown",
   "metadata": {},
   "source": [
    "try:運行代碼，這裏可能會有異常"
   ]
  },
  {
   "cell_type": "markdown",
   "metadata": {},
   "source": [
    "except：儅try裏出現異常捕獲異常，可以使用as來獲取異常對象，在這裏可做異常的處理，比如把異常寫入日志\n"
   ]
  },
  {
   "cell_type": "markdown",
   "metadata": {},
   "source": [
    "else：儅沒有發生異常時，執行else"
   ]
  },
  {
   "cell_type": "markdown",
   "metadata": {},
   "source": [
    "finally：不管有無異常，都會執行，即使在函數里上面有return，finally也會執行"
   ]
  },
  {
   "cell_type": "markdown",
   "metadata": {},
   "source": [
    "總結：<br>\n",
    "如果try執行放聲異常，第一個except會匹配捕獲，<br>\n",
    "如果第一層except沒有捕獲，異常將傳入外層的try，<br>\n",
    "如果外層還不處理異常，異常將繼續向外曾傳遞，<br>\n",
    "傳到最外層還不處理就會終止所在綫程。<br>\n",
    "如果try沒有異常，將執行else語句<br>\n",
    "無論try是否發生異常，finally都會執行<br>"
   ]
  },
  {
   "cell_type": "markdown",
   "metadata": {},
   "source": [
    "# 2. 实现个插件化开发的demo"
   ]
  },
  {
   "cell_type": "code",
   "execution_count": 1,
   "metadata": {},
   "outputs": [],
   "source": [
    "import importlib\n",
    "\n",
    "#test module has A class\n",
    "\n",
    "class A:\n",
    "    def Print(self):\n",
    "        print('this is plugin')\n",
    "\n",
    "def plugin_load(module,cls):\n",
    "    mod =importlib(module)\n",
    "    cls = getattr(mod,cls)\n",
    "    return cls()\n",
    "\n",
    "if __name__ = \"__main__\":\n",
    "    plg = plugin_load('test','A')\n",
    "    plug.Print"
   ]
  },
  {
   "cell_type": "markdown",
   "metadata": {},
   "source": [
    "# 3. 列出视频中讲到的git支持各个命令及说明 "
   ]
  },
  {
   "cell_type": "markdown",
   "metadata": {},
   "source": [
    "git init: <br>\n",
    "在當前目錄中增加一個.git目錄。是項目的根目錄，不要修改該目錄"
   ]
  },
  {
   "cell_type": "markdown",
   "metadata": {},
   "source": [
    "git add file <br>:\n",
    "把文件的當前變化增加到索引，以後這個文件需要版本庫來跟蹤管理，<br>\n",
    "這個不是提交。文件還可以繼續修改們還可以添加新的被跟蹤文件，add后參能把這些改變加入到索引中去<br>\n",
    "git add. :把所有的文件都加入索引中"
   ]
  },
  {
   "cell_type": "markdown",
   "metadata": {},
   "source": [
    "git status : <br>\n",
    "查看狀態 : <br>\n",
    "tracked:已加入把版本庫的文件 <br>\n",
    "untracked:未加入到版本庫未被管理的文件 <br>\n",
    "ignored:git不在關注的文件，在.gitignore文件中 <br>"
   ]
  },
  {
   "cell_type": "markdown",
   "metadata": {},
   "source": [
    "git commit -m \"message\" :<br> \n",
    "\n",
    "提交代碼 <br>\n",
    "-a : 會把所有跟蹤文件的改動自動暫存"
   ]
  },
  {
   "cell_type": "markdown",
   "metadata": {},
   "source": [
    "git diff: <br>查看被跟蹤文件未暫存的修改，比較暫存區和工作區"
   ]
  },
  {
   "cell_type": "markdown",
   "metadata": {},
   "source": [
    "git diff --cached: <br> 比較暫存區和上次commit的差異"
   ]
  },
  {
   "cell_type": "markdown",
   "metadata": {},
   "source": [
    "\n",
    "git diff HEAD:<br> 比較工作區和上次commit的差異"
   ]
  },
  {
   "cell_type": "markdown",
   "metadata": {},
   "source": [
    "git reflog:<br> 顯示commit信息，只要HEAD發生變化，就可以在這裏看到"
   ]
  },
  {
   "cell_type": "markdown",
   "metadata": {},
   "source": [
    "git remote:<br>列出所有遠程倉庫"
   ]
  },
  {
   "cell_type": "markdown",
   "metadata": {},
   "source": [
    "git push origin master : <br> 指定推送到遠程主機和分支"
   ]
  },
  {
   "cell_type": "code",
   "execution_count": null,
   "metadata": {},
   "outputs": [],
   "source": []
  }
 ],
 "metadata": {
  "kernelspec": {
   "display_name": "Python 3",
   "language": "python",
   "name": "python3"
  },
  "language_info": {
   "codemirror_mode": {
    "name": "ipython",
    "version": 3
   },
   "file_extension": ".py",
   "mimetype": "text/x-python",
   "name": "python",
   "nbconvert_exporter": "python",
   "pygments_lexer": "ipython3",
   "version": "3.6.8"
  }
 },
 "nbformat": 4,
 "nbformat_minor": 2
}

{
 "cells": [
  {
   "cell_type": "markdown",
   "metadata": {},
   "source": [
    "# 1. 什么是类和实例并说明他们之间的关系"
   ]
  },
  {
   "cell_type": "markdown",
   "metadata": {},
   "source": [
    "类class 是一种方法论 类是抽象的概念，计算机语言中，类是属性和方法的集合<br>\n",
    "实体instance,object 是类的具体对象<br>\n",
    "\n",
    "举例来说，人是一个类，但是我们不知道他是什么样子，他能做什么。<br>\n",
    "这个类中，有一个实体是人，那么这个就是实体，他的属性可能是男性，，他的功能可能是抗200斤麦子走10里山路不换肩<br>"
   ]
  },
  {
   "cell_type": "code",
   "execution_count": null,
   "metadata": {},
   "outputs": [],
   "source": []
  },
  {
   "cell_type": "code",
   "execution_count": null,
   "metadata": {},
   "outputs": [],
   "source": []
  },
  {
   "cell_type": "markdown",
   "metadata": {},
   "source": [
    "# 2. 类的实例方法、类方法和静态分别如何定义举例说明，并总结它们的应用场景"
   ]
  },
  {
   "cell_type": "code",
   "execution_count": 2,
   "metadata": {},
   "outputs": [],
   "source": [
    "class Cars:\n",
    "    __Wheels = 4\n",
    "    def __init__(self,brand,speed):\n",
    "        self.brand = brand\n",
    "        self.speed = speed\n",
    "        \n",
    "    def horn(self):\n",
    "        print('Woooooooo!')\n",
    "    \n",
    "    @staticmethod\n",
    "    def static_method():\n",
    "        print('static method')\n",
    "    \n",
    "    @classmethod\n",
    "    def class_method(cls):\n",
    "        print(cls.__name__,'method')"
   ]
  },
  {
   "cell_type": "code",
   "execution_count": 3,
   "metadata": {},
   "outputs": [],
   "source": [
    "c = Cars('Audi',200)"
   ]
  },
  {
   "cell_type": "code",
   "execution_count": 4,
   "metadata": {},
   "outputs": [
    {
     "name": "stdout",
     "output_type": "stream",
     "text": [
      "Cars method\n"
     ]
    }
   ],
   "source": [
    "c.class_method()"
   ]
  },
  {
   "cell_type": "code",
   "execution_count": 9,
   "metadata": {},
   "outputs": [
    {
     "name": "stdout",
     "output_type": "stream",
     "text": [
      "Cars method\n"
     ]
    }
   ],
   "source": [
    "Cars.class_method()"
   ]
  },
  {
   "cell_type": "code",
   "execution_count": 5,
   "metadata": {},
   "outputs": [
    {
     "name": "stdout",
     "output_type": "stream",
     "text": [
      "Woooooooo!\n"
     ]
    }
   ],
   "source": [
    "c.horn()"
   ]
  },
  {
   "cell_type": "code",
   "execution_count": 7,
   "metadata": {},
   "outputs": [
    {
     "name": "stdout",
     "output_type": "stream",
     "text": [
      "static method\n"
     ]
    }
   ],
   "source": [
    "Cars.static_method()"
   ]
  },
  {
   "cell_type": "markdown",
   "metadata": {},
   "source": [
    "实例方法是实体c的功能，c.horn()是实体的方法<br>\n",
    "类的方法是类Cars和实体通用的方法 <br>\n",
    "静态方法不传入cls和self,只是为了方便组织管理，把它规整在一起<br>"
   ]
  },
  {
   "cell_type": "markdown",
   "metadata": {},
   "source": [
    "# 3. MRO是什么，描述其查找顺序"
   ]
  },
  {
   "cell_type": "markdown",
   "metadata": {},
   "source": [
    "MRO：method resilution order<br>\n",
    "方法解析顺序<br>\n",
    "解决基类搜索顺序问题<br>\n",
    "现在使用的是C3算法<br>\n",
    "比如有两个分支class->D->B->A<br>\n",
    "class->C->A<br>\n",
    "如果有一个方法在C里面和A里面同时存在，那么我们会提取C里面的<br>\n",
    "简单的理解就是C比较近<br>\n"
   ]
  },
  {
   "cell_type": "code",
   "execution_count": null,
   "metadata": {},
   "outputs": [],
   "source": []
  },
  {
   "cell_type": "markdown",
   "metadata": {},
   "source": [
    "# 4. Mixin是什么，描述其应用场景 "
   ]
  },
  {
   "cell_type": "markdown",
   "metadata": {},
   "source": [
    "比如我们有第三方库<br>\n",
    "这个库不允许修改，<br>\n",
    "我们想把给这个库增加一些功能<br>\n",
    "那么我们增加新的类，带来一些新的属性和方法<br>\n",
    "这个就是Mixin<br>\n",
    "mixin体现的是多组合模式，实际上就是用多继承实现的<br>\n",
    "\n",
    "mixin里不因该有init出现<br>\n",
    "mixin里不能单独工作，因为它要回如别的类中实现其他功能的<br>\n",
    "mixin在继承顺序里是第一个位置的<br>"
   ]
  },
  {
   "cell_type": "code",
   "execution_count": null,
   "metadata": {},
   "outputs": [],
   "source": []
  },
  {
   "cell_type": "code",
   "execution_count": null,
   "metadata": {},
   "outputs": [],
   "source": []
  },
  {
   "cell_type": "code",
   "execution_count": null,
   "metadata": {},
   "outputs": [],
   "source": []
  }
 ],
 "metadata": {
  "kernelspec": {
   "display_name": "Python 3",
   "language": "python",
   "name": "python3"
  },
  "language_info": {
   "codemirror_mode": {
    "name": "ipython",
    "version": 3
   },
   "file_extension": ".py",
   "mimetype": "text/x-python",
   "name": "python",
   "nbconvert_exporter": "python",
   "pygments_lexer": "ipython3",
   "version": "3.6.8"
  }
 },
 "nbformat": 4,
 "nbformat_minor": 2
}

{
 "cells": [
  {
   "cell_type": "markdown",
   "metadata": {},
   "source": [
    "# 1. 集合（set）元素去重的判断依据是什么"
   ]
  },
  {
   "cell_type": "markdown",
   "metadata": {},
   "source": [
    "\n",
    "我們先要判斷這兩個類對象的哈希值是否一樣<br>\n",
    "如果哈希值是一樣的，説明這兩個實例在同一房間裏面<br>\n",
    "接著要看他們的内容是否相同，如果内容相同，在set裏面就要去重<br>\n",
    "\n",
    "如果兩個實例的哈希值都不一樣的話，那麽就沒有去重，因爲他們的門牌號的不一樣<br>"
   ]
  },
  {
   "cell_type": "code",
   "execution_count": 5,
   "metadata": {},
   "outputs": [
    {
     "name": "stdout",
     "output_type": "stream",
     "text": [
      "{cat}\n"
     ]
    }
   ],
   "source": [
    "class Animal:\n",
    "    def __init__(self,name):\n",
    "        self.name = name\n",
    "        \n",
    "    def __hash__(self):\n",
    "        return 1\n",
    "    def __eq__(self,other):\n",
    "        return True\n",
    "    def __repr__(self):\n",
    "        return self.name\n",
    "cat = Animal('cat')\n",
    "dog = Animal('dog')\n",
    "print({cat,dog})"
   ]
  },
  {
   "cell_type": "markdown",
   "metadata": {},
   "source": [
    "上面這個例子： __hash__永遠返回哈希值1，所以哈希門牌號是一樣的，兩個實例在同一個房間裏，<br>\n",
    "再看__eq__返回都是True,那麽兩個實例的内容是一樣的，<br>\n",
    "所以在set裏最後去重"
   ]
  },
  {
   "cell_type": "code",
   "execution_count": 7,
   "metadata": {},
   "outputs": [
    {
     "name": "stdout",
     "output_type": "stream",
     "text": [
      "{cat, dog}\n"
     ]
    }
   ],
   "source": [
    "class Animal:\n",
    "    def __init__(self,name):\n",
    "        self.name = name\n",
    "        \n",
    "    def __hash__(self):\n",
    "        return 1\n",
    "    def __eq__(self,other):\n",
    "        return self.name == other.name\n",
    "    def __repr__(self):\n",
    "        return self.name\n",
    "cat = Animal('cat')\n",
    "dog = Animal('dog')\n",
    "print({cat,dog})"
   ]
  },
  {
   "cell_type": "markdown",
   "metadata": {},
   "source": [
    "上面這個例子： __hash__永遠返回哈希值1，所以哈希門牌號是一樣的，兩個實例在同一個房間裏，<br>\n",
    "再看__eq__返回比較實例的名字是否相同,因爲兩個實例名字不同，所以内容不同<br>\n",
    "所以最後都在set裏<br>"
   ]
  },
  {
   "cell_type": "code",
   "execution_count": 9,
   "metadata": {},
   "outputs": [
    {
     "name": "stdout",
     "output_type": "stream",
     "text": [
      "{dog, cat}\n"
     ]
    }
   ],
   "source": [
    "class Animal:\n",
    "    def __init__(self,name):\n",
    "        self.name = name\n",
    "        \n",
    "    def __hash__(self):\n",
    "        return hash(self.name)\n",
    "    def __eq__(self,other):\n",
    "        return True\n",
    "    def __repr__(self):\n",
    "        return self.name\n",
    "cat = Animal('cat')\n",
    "dog = Animal('dog')\n",
    "print({cat,dog})"
   ]
  },
  {
   "cell_type": "markdown",
   "metadata": {},
   "source": [
    "上面這個例子： __hash__返回哈希值取self.name的哈希值，所以兩個實例哈希值是不一樣的<br>\n",
    "地址門牌的不一樣，由此可得，兩個實例不一樣<br>\n",
    "所以在set裏沒去重<br>"
   ]
  },
  {
   "cell_type": "markdown",
   "metadata": {},
   "source": [
    "# 2. 总结本周视频讲解魔术方法的作用及什么情况会执行到该方法"
   ]
  },
  {
   "cell_type": "markdown",
   "metadata": {},
   "source": [
    "1. <br>\n",
    "  __add__, __sub__,__eq__,__iadd__,__isub__,__ge__,__gt__"
   ]
  },
  {
   "cell_type": "markdown",
   "metadata": {},
   "source": [
    "舉例："
   ]
  },
  {
   "cell_type": "code",
   "execution_count": 49,
   "metadata": {},
   "outputs": [],
   "source": [
    "class Point:\n",
    "    def __init__(self,x,y):\n",
    "        self.x = x\n",
    "        self.y = y\n",
    "        \n",
    "    def __add__(self,other):   # +\n",
    "        return self.__class__(self.x+other.x,self.y+other.y)\n",
    "    \n",
    "    def __sub__(self,other): #-\n",
    "        return self.__class__(self.x - other.x,self.y - other.y)\n",
    "    \n",
    "    def __eq__(self,other):  #==\n",
    "        return self.x == other.x and self.y == other.y\n",
    "    \n",
    "    def __iadd__(self,other): #+=\n",
    "        self.x = self.x + other.x\n",
    "        self.y = self.y + other.y\n",
    "        return self\n",
    "    def __isub__(self,other):\n",
    "        self.x = self.x - other.x\n",
    "        self.y = self.y - other.y\n",
    "        return self\n",
    "    def __ge__(self,other):\n",
    "        return self.x >=other.x and self.y>=other.y\n",
    "    def __repr__(self):\n",
    "        return \"x:{} y:{}\".format(self.x,self.y)"
   ]
  },
  {
   "cell_type": "code",
   "execution_count": 50,
   "metadata": {},
   "outputs": [
    {
     "name": "stdout",
     "output_type": "stream",
     "text": [
      "x:7 y:9 +++\n",
      "x:1 y:1 ---\n",
      "False ===\n"
     ]
    }
   ],
   "source": [
    "p1 = Point(4,5)\n",
    "p2 = Point(3,4)\n",
    "print(p1+p2,\"+++\")\n",
    "print(p1-p2,\"---\")\n",
    "print(p1==p2,\"===\")\n"
   ]
  },
  {
   "cell_type": "code",
   "execution_count": 51,
   "metadata": {},
   "outputs": [
    {
     "name": "stdout",
     "output_type": "stream",
     "text": [
      "x:7 y:9\n"
     ]
    }
   ],
   "source": [
    "p1 = Point(4,5)\n",
    "p2 = Point(3,4)\n",
    "p1+=p2\n",
    "print(p1)"
   ]
  },
  {
   "cell_type": "code",
   "execution_count": 52,
   "metadata": {},
   "outputs": [
    {
     "name": "stdout",
     "output_type": "stream",
     "text": [
      "x:1 y:1\n"
     ]
    }
   ],
   "source": [
    "p1 = Point(4,5)\n",
    "p2 = Point(3,4)\n",
    "p1-=p2\n",
    "print(p1)"
   ]
  },
  {
   "cell_type": "code",
   "execution_count": 53,
   "metadata": {},
   "outputs": [
    {
     "data": {
      "text/plain": [
       "False"
      ]
     },
     "execution_count": 53,
     "metadata": {},
     "output_type": "execute_result"
    }
   ],
   "source": [
    "p1>=p2"
   ]
  },
  {
   "cell_type": "markdown",
   "metadata": {},
   "source": [
    "2. <br>\n",
    "__len__ : 長度<br>\n",
    "__getitem__ : 取得元素<br>\n",
    "__setitem__ : 設置某個位置的元素值<br>\n",
    "__iter__ : 迭代<br>"
   ]
  },
  {
   "cell_type": "markdown",
   "metadata": {},
   "source": [
    "舉例:"
   ]
  },
  {
   "cell_type": "code",
   "execution_count": 83,
   "metadata": {},
   "outputs": [],
   "source": [
    "class Cart:\n",
    "    def __init__(self):\n",
    "        self.items = []\n",
    "        \n",
    "    def __add__(self,item):\n",
    "        self.items.append(item)\n",
    "        return self\n",
    "    \n",
    "    def __getitem__(self,index):\n",
    "        return self.items[index]\n",
    "    \n",
    "    def __setitem__(self,index,value):\n",
    "        if index >=len(self):\n",
    "            self + value\n",
    "        else:\n",
    "            self.items[index] = value\n",
    "        \n",
    "    def __len__(self):\n",
    "        return len(self.items)\n",
    "    \n",
    "    def __iter__(self):\n",
    "        return iter(self.items)\n",
    "    \n",
    "    def __repr__(self):\n",
    "        return \"Items :{}\".format(self.items)"
   ]
  },
  {
   "cell_type": "code",
   "execution_count": 82,
   "metadata": {},
   "outputs": [
    {
     "name": "stdout",
     "output_type": "stream",
     "text": [
      "Items :['apple', 'banana', 'battery']\n",
      "apple\n",
      "3\n"
     ]
    }
   ],
   "source": [
    "cart = Cart()\n",
    "cart+'apple'+'banana'\n",
    "cart[3] = 'battery'\n",
    "print(cart)\n",
    "print(cart[0])\n",
    "print(len(cart))"
   ]
  },
  {
   "cell_type": "code",
   "execution_count": 84,
   "metadata": {},
   "outputs": [
    {
     "name": "stdout",
     "output_type": "stream",
     "text": [
      "apple\n",
      "banana\n",
      "battery\n"
     ]
    }
   ],
   "source": [
    "for x in cart:\n",
    "    print(x)"
   ]
  },
  {
   "cell_type": "markdown",
   "metadata": {},
   "source": [
    "3.<br>\n",
    "可調用對象:  __call __   \n",
    "調用實例對象本身，對其傳入參數 <br>  "
   ]
  },
  {
   "cell_type": "code",
   "execution_count": 95,
   "metadata": {},
   "outputs": [],
   "source": [
    "#階乘\n",
    "class factorial:\n",
    "    def __init__(self):\n",
    "        self.fact = [1,1,2]  #從0開始，0的階乘是1\n",
    "        \n",
    "    def __call__(self,index):\n",
    "        if index > len(self.fact):\n",
    "            for i in range(len(self.fact),index+1):\n",
    "                self.fact.append(self.fact[i-1]*i)\n",
    "        return self[index]\n",
    "    \n",
    "    def __getitem__(self,index):\n",
    "        return self.fact[index]\n",
    "    \n",
    "    def __repr__(self):\n",
    "        return \"{}\".format(self.fact)"
   ]
  },
  {
   "cell_type": "code",
   "execution_count": 98,
   "metadata": {},
   "outputs": [
    {
     "name": "stdout",
     "output_type": "stream",
     "text": [
      "[1, 1, 2, 6, 24, 120, 720]\n",
      "24\n"
     ]
    }
   ],
   "source": [
    "f = factorial()\n",
    "f(6)\n",
    "print(f)\n",
    "print(f(4))"
   ]
  },
  {
   "cell_type": "markdown",
   "metadata": {},
   "source": [
    "4.<br>\n",
    "   __ enter __ , __ exit __ <br>"
   ]
  },
  {
   "cell_type": "markdown",
   "metadata": {},
   "source": [
    "上下文管理，with<br>\n",
    "\n",
    "在進入with語句時，調用 __ enter __<br>\n",
    "\n",
    "as與 __ enter __ 有關， __ enter __ 返回值是as後面的變量<br>\n",
    "\n",
    "在with完成時，調用__ exit __方法"
   ]
  },
  {
   "cell_type": "code",
   "execution_count": 104,
   "metadata": {},
   "outputs": [],
   "source": [
    "from functools import wraps\n",
    "import datetime\n",
    "import time\n",
    "\n",
    "\n",
    " \n",
    "def add(x,y):  #add = Timer(add)\n",
    "    '''this is an add function'''\n",
    "    time.sleep(1)\n",
    "    return x+y\n",
    "\n",
    "\n",
    "class Timer:\n",
    "    def __init__(self,func):\n",
    "        self.func = func\n",
    "        #wraps(func)(self)\n",
    "        update_wrapper(self,func)\n",
    "    def __call__(self,*args,**kwargs):\n",
    "        start = datetime.datetime.now()\n",
    "        ret = self.func(*args,**kwargs)\n",
    "        delta = (datetime.datetime.now() - start).total_seconds()\n",
    "        print(delta)\n",
    "        return ret\n",
    "    def __enter__(self):\n",
    "        self.start = datetime.datetime.now()\n",
    "        return self.func\n",
    "    def __exit__(self,exc_type,exc_val,exc_tb):\n",
    "        delta = (datetime.datetime.now() - self.start).total_seconds()\n",
    "        print(delta)\n"
   ]
  },
  {
   "cell_type": "code",
   "execution_count": 106,
   "metadata": {},
   "outputs": [
    {
     "name": "stdout",
     "output_type": "stream",
     "text": [
      "9\n",
      "1.001605\n"
     ]
    }
   ],
   "source": [
    "with Timer(add) as a:  \n",
    "    print(a(4,5))  #a就是Timer(add)實例對象, a(4,5)調用了__call__"
   ]
  },
  {
   "cell_type": "markdown",
   "metadata": {},
   "source": [
    "5.<br>\n",
    " __ getattr __ : 實例，類，祖先類都查找不到屬性時，就調用它<br> \n",
    " __ setattr __ :  設置屬性self.x = x就會調用此方法，屬性加到實例中的__ dict __,就要自己寫<br> \n",
    " __ del __: 刪除屬性 <br>\n",
    " __ getattribute __  :  實例的所有屬性調用都從這個方法開始"
   ]
  },
  {
   "cell_type": "code",
   "execution_count": 27,
   "metadata": {},
   "outputs": [],
   "source": [
    "class A:\n",
    "    z = 5\n",
    "    def __init__(self,x,y):\n",
    "        self.x = x\n",
    "        setattr(self,'y',y)\n",
    "        \n",
    "    def __getattr__(self,item):\n",
    "        print(\"__getattr__\")\n",
    "        return 1"
   ]
  },
  {
   "cell_type": "code",
   "execution_count": 28,
   "metadata": {},
   "outputs": [],
   "source": [
    "a = A(2,3)"
   ]
  },
  {
   "cell_type": "code",
   "execution_count": 21,
   "metadata": {},
   "outputs": [
    {
     "data": {
      "text/plain": [
       "{'x': 2, 'y': 3}"
      ]
     },
     "execution_count": 21,
     "metadata": {},
     "output_type": "execute_result"
    }
   ],
   "source": [
    "a.__dict__"
   ]
  },
  {
   "cell_type": "code",
   "execution_count": 22,
   "metadata": {},
   "outputs": [
    {
     "data": {
      "text/plain": [
       "2"
      ]
     },
     "execution_count": 22,
     "metadata": {},
     "output_type": "execute_result"
    }
   ],
   "source": [
    "a.x #當實例有此屬性時，不會調用__getattr__"
   ]
  },
  {
   "cell_type": "code",
   "execution_count": 23,
   "metadata": {},
   "outputs": [
    {
     "data": {
      "text/plain": [
       "5"
      ]
     },
     "execution_count": 23,
     "metadata": {},
     "output_type": "execute_result"
    }
   ],
   "source": [
    "a.z #當實例的類有此屬性時，不會調用__getattr__"
   ]
  },
  {
   "cell_type": "code",
   "execution_count": 24,
   "metadata": {},
   "outputs": [
    {
     "name": "stdout",
     "output_type": "stream",
     "text": [
      "__getattr__\n"
     ]
    },
    {
     "data": {
      "text/plain": [
       "1"
      ]
     },
     "execution_count": 24,
     "metadata": {},
     "output_type": "execute_result"
    }
   ],
   "source": [
    "a.p #當實例以及實例的類沒有該屬性時，調用__getattr__"
   ]
  },
  {
   "cell_type": "code",
   "execution_count": 32,
   "metadata": {},
   "outputs": [],
   "source": [
    "class A:\n",
    "    z = 5\n",
    "    def __init__(self,x,y):\n",
    "        self.x = x\n",
    "        setattr(self,'y',y)\n",
    "        \n",
    "    def __getattr__(self,item):\n",
    "        print(\"__getattr__\")\n",
    "        return 1\n",
    "    def __setattr__(self,key,value):\n",
    "        print(\"__setattr__\")\n",
    "        self.__dict__[key] = value   #在實力字典裏手動加入屬性"
   ]
  },
  {
   "cell_type": "code",
   "execution_count": 33,
   "metadata": {},
   "outputs": [
    {
     "name": "stdout",
     "output_type": "stream",
     "text": [
      "__setattr__\n",
      "__setattr__\n"
     ]
    }
   ],
   "source": [
    "b = A(1,2) #當創建實例： self.x=x 和setattr(self,'y',y)的時候， __setattr__會攔截給實例屬性賦值"
   ]
  },
  {
   "cell_type": "code",
   "execution_count": 34,
   "metadata": {},
   "outputs": [
    {
     "data": {
      "text/plain": [
       "1"
      ]
     },
     "execution_count": 34,
     "metadata": {},
     "output_type": "execute_result"
    }
   ],
   "source": [
    "b.x"
   ]
  },
  {
   "cell_type": "code",
   "execution_count": 35,
   "metadata": {},
   "outputs": [
    {
     "data": {
      "text/plain": [
       "2"
      ]
     },
     "execution_count": 35,
     "metadata": {},
     "output_type": "execute_result"
    }
   ],
   "source": [
    "b.y"
   ]
  },
  {
   "cell_type": "code",
   "execution_count": 39,
   "metadata": {},
   "outputs": [],
   "source": [
    "class A:\n",
    "    z = 5\n",
    "    def __init__(self,x,y):\n",
    "        self.x = x\n",
    "        setattr(self,'y',y)\n",
    "        \n",
    "    def __delattr__(self,key):\n",
    "        print(\"__delattr\")"
   ]
  },
  {
   "cell_type": "code",
   "execution_count": 40,
   "metadata": {},
   "outputs": [],
   "source": [
    "c = A(3,4)"
   ]
  },
  {
   "cell_type": "code",
   "execution_count": 42,
   "metadata": {},
   "outputs": [
    {
     "name": "stdout",
     "output_type": "stream",
     "text": [
      "__delattr\n"
     ]
    }
   ],
   "source": [
    "del c.x ##調用__delattr__"
   ]
  },
  {
   "cell_type": "code",
   "execution_count": 44,
   "metadata": {},
   "outputs": [
    {
     "data": {
      "text/plain": [
       "3"
      ]
     },
     "execution_count": 44,
     "metadata": {},
     "output_type": "execute_result"
    }
   ],
   "source": [
    "c.x"
   ]
  },
  {
   "cell_type": "markdown",
   "metadata": {},
   "source": [
    "6 .  描述器<br>\n",
    "\n",
    "__ get __ <br>\n",
    "__ set ___ <br>\n",
    "__ del __ <br>"
   ]
  },
  {
   "cell_type": "code",
   "execution_count": 46,
   "metadata": {},
   "outputs": [
    {
     "name": "stdout",
     "output_type": "stream",
     "text": [
      "A init\n"
     ]
    }
   ],
   "source": [
    "class A:\n",
    "    def __init__(self):\n",
    "        self.a1 = 'a1'\n",
    "        print(\"A init\")\n",
    "        \n",
    "class B:\n",
    "    x = A()  \n",
    "    def __init__(self):\n",
    "        print(\"B init\")\n",
    "##類B的x屬性是實例A,所以在B類中 ,當x = A()時，會調用A類的__init__   "
   ]
  },
  {
   "cell_type": "code",
   "execution_count": 48,
   "metadata": {},
   "outputs": [
    {
     "data": {
      "text/plain": [
       "'a1'"
      ]
     },
     "execution_count": 48,
     "metadata": {},
     "output_type": "execute_result"
    }
   ],
   "source": [
    "B.x.a1"
   ]
  },
  {
   "cell_type": "code",
   "execution_count": 50,
   "metadata": {},
   "outputs": [
    {
     "name": "stdout",
     "output_type": "stream",
     "text": [
      "B init\n"
     ]
    },
    {
     "data": {
      "text/plain": [
       "'a1'"
      ]
     },
     "execution_count": 50,
     "metadata": {},
     "output_type": "execute_result"
    }
   ],
   "source": [
    "b = B()\n",
    "b.x.a1"
   ]
  },
  {
   "cell_type": "code",
   "execution_count": 71,
   "metadata": {},
   "outputs": [
    {
     "name": "stdout",
     "output_type": "stream",
     "text": [
      "A init\n"
     ]
    }
   ],
   "source": [
    "class A:\n",
    "    def __init__(self):\n",
    "        self.a1 = 'a1'\n",
    "        print(\"A init\")\n",
    "    def __get__(self,instance,owner):\n",
    "        \n",
    "        print(\"__get__\")\n",
    "    \n",
    "    \n",
    "        \n",
    "class B:\n",
    "    x = A()  \n",
    "    def __init__(self):\n",
    "        print(\"B init\")\n",
    "        self.b = A()"
   ]
  },
  {
   "cell_type": "code",
   "execution_count": 57,
   "metadata": {},
   "outputs": [
    {
     "name": "stdout",
     "output_type": "stream",
     "text": [
      "__get__\n"
     ]
    },
    {
     "ename": "AttributeError",
     "evalue": "'NoneType' object has no attribute 'a1'",
     "output_type": "error",
     "traceback": [
      "\u001b[0;31m---------------------------------------------------------------------------\u001b[0m",
      "\u001b[0;31mAttributeError\u001b[0m                            Traceback (most recent call last)",
      "\u001b[0;32m<ipython-input-57-70dd23631358>\u001b[0m in \u001b[0;36m<module>\u001b[0;34m\u001b[0m\n\u001b[0;32m----> 1\u001b[0;31m \u001b[0mB\u001b[0m\u001b[0;34m.\u001b[0m\u001b[0mx\u001b[0m\u001b[0;34m.\u001b[0m\u001b[0ma1\u001b[0m\u001b[0;34m\u001b[0m\u001b[0;34m\u001b[0m\u001b[0m\n\u001b[0m",
      "\u001b[0;31mAttributeError\u001b[0m: 'NoneType' object has no attribute 'a1'"
     ]
    }
   ],
   "source": [
    "B.x.a1"
   ]
  },
  {
   "cell_type": "code",
   "execution_count": 53,
   "metadata": {},
   "outputs": [
    {
     "name": "stdout",
     "output_type": "stream",
     "text": [
      "B init\n",
      "__get__\n"
     ]
    },
    {
     "ename": "AttributeError",
     "evalue": "'NoneType' object has no attribute 'a1'",
     "output_type": "error",
     "traceback": [
      "\u001b[0;31m---------------------------------------------------------------------------\u001b[0m",
      "\u001b[0;31mAttributeError\u001b[0m                            Traceback (most recent call last)",
      "\u001b[0;32m<ipython-input-53-2a8da73588d9>\u001b[0m in \u001b[0;36m<module>\u001b[0;34m\u001b[0m\n\u001b[1;32m      1\u001b[0m \u001b[0mb\u001b[0m \u001b[0;34m=\u001b[0m \u001b[0mB\u001b[0m\u001b[0;34m(\u001b[0m\u001b[0;34m)\u001b[0m\u001b[0;34m\u001b[0m\u001b[0;34m\u001b[0m\u001b[0m\n\u001b[0;32m----> 2\u001b[0;31m \u001b[0mb\u001b[0m\u001b[0;34m.\u001b[0m\u001b[0mx\u001b[0m\u001b[0;34m.\u001b[0m\u001b[0ma1\u001b[0m\u001b[0;34m\u001b[0m\u001b[0;34m\u001b[0m\u001b[0m\n\u001b[0m",
      "\u001b[0;31mAttributeError\u001b[0m: 'NoneType' object has no attribute 'a1'"
     ]
    }
   ],
   "source": [
    "b = B()\n",
    "b.x.a1"
   ]
  },
  {
   "cell_type": "code",
   "execution_count": 62,
   "metadata": {},
   "outputs": [
    {
     "name": "stdout",
     "output_type": "stream",
     "text": [
      "__get__\n"
     ]
    }
   ],
   "source": [
    "b.x"
   ]
  },
  {
   "cell_type": "code",
   "execution_count": 63,
   "metadata": {},
   "outputs": [
    {
     "name": "stdout",
     "output_type": "stream",
     "text": [
      "__get__\n"
     ]
    }
   ],
   "source": [
    "B.x"
   ]
  },
  {
   "cell_type": "code",
   "execution_count": 64,
   "metadata": {},
   "outputs": [],
   "source": [
    "#B類裏x訪問A的實例，就會調用__get__方法：也就是説B.x已經觸發了__get__\n",
    "#實例b：b.x也會觸發 A的__get__"
   ]
  },
  {
   "cell_type": "code",
   "execution_count": 72,
   "metadata": {},
   "outputs": [
    {
     "name": "stdout",
     "output_type": "stream",
     "text": [
      "B init\n",
      "A init\n"
     ]
    }
   ],
   "source": [
    "b =B()"
   ]
  },
  {
   "cell_type": "code",
   "execution_count": 73,
   "metadata": {},
   "outputs": [
    {
     "data": {
      "text/plain": [
       "<__main__.A at 0x7ff8a7637978>"
      ]
     },
     "execution_count": 73,
     "metadata": {},
     "output_type": "execute_result"
    }
   ],
   "source": [
    "b.b  #b.b 沒有觸發 __get__或 __set__方法"
   ]
  },
  {
   "cell_type": "code",
   "execution_count": 74,
   "metadata": {},
   "outputs": [
    {
     "name": "stdout",
     "output_type": "stream",
     "text": [
      "__get__\n"
     ]
    }
   ],
   "source": [
    "b.x"
   ]
  },
  {
   "cell_type": "code",
   "execution_count": null,
   "metadata": {},
   "outputs": [],
   "source": []
  },
  {
   "cell_type": "markdown",
   "metadata": {},
   "source": [
    "加入__ set __的變化（數據描述器）:"
   ]
  },
  {
   "cell_type": "code",
   "execution_count": 114,
   "metadata": {},
   "outputs": [
    {
     "name": "stdout",
     "output_type": "stream",
     "text": [
      "A init\n"
     ]
    }
   ],
   "source": [
    "class A:\n",
    "    def __init__(self):\n",
    "        self.a1 = 'a1'\n",
    "        print(\"A init\")\n",
    "    def __get__(self,instance,owner):\n",
    "        \n",
    "        print(\"__get__\")\n",
    "        \n",
    "    def __set__(self,instance,owner):\n",
    "        print(\"__set__\")\n",
    "    \n",
    "    \n",
    "        \n",
    "class B:\n",
    "    x = A()  \n",
    "    def __init__(self):\n",
    "        print(\"B init\")\n",
    "        self.x = 1000  #由於x=A()和self.x = 1000 的x重名，就會觸發描述器的__set__方法。（self.x重新定義了屬性x）"
   ]
  },
  {
   "cell_type": "code",
   "execution_count": 89,
   "metadata": {},
   "outputs": [
    {
     "name": "stdout",
     "output_type": "stream",
     "text": [
      "B init\n",
      "__set__\n"
     ]
    }
   ],
   "source": [
    "b = B()"
   ]
  },
  {
   "cell_type": "code",
   "execution_count": null,
   "metadata": {},
   "outputs": [],
   "source": []
  },
  {
   "cell_type": "code",
   "execution_count": 125,
   "metadata": {},
   "outputs": [
    {
     "name": "stdout",
     "output_type": "stream",
     "text": [
      "A init\n"
     ]
    }
   ],
   "source": [
    "class A:\n",
    "    def __init__(self):\n",
    "        self.a1 = 'a1'\n",
    "        print(\"A init\")\n",
    "        \n",
    "    def __get__(self,instance,owner):\n",
    "        print(\"__get__\")\n",
    "        return self\n",
    "    \n",
    "    def __set__(self,instance,value):\n",
    "        print(\"__set__\")\n",
    "        instance.z = value     \n",
    "class B:\n",
    "    x = A()  \n",
    "    def __init__(self):\n",
    "        print(\"B init\")\n",
    "        self.x = 1000  # __set__"
   ]
  },
  {
   "cell_type": "code",
   "execution_count": 126,
   "metadata": {},
   "outputs": [
    {
     "name": "stdout",
     "output_type": "stream",
     "text": [
      "B init\n",
      "__set__\n"
     ]
    }
   ],
   "source": [
    "b = B()"
   ]
  },
  {
   "cell_type": "code",
   "execution_count": 127,
   "metadata": {},
   "outputs": [
    {
     "name": "stdout",
     "output_type": "stream",
     "text": [
      "__get__\n"
     ]
    },
    {
     "data": {
      "text/plain": [
       "<__main__.A at 0x7ff8a7637be0>"
      ]
     },
     "execution_count": 127,
     "metadata": {},
     "output_type": "execute_result"
    }
   ],
   "source": [
    "b.x  #__get__"
   ]
  },
  {
   "cell_type": "code",
   "execution_count": 128,
   "metadata": {},
   "outputs": [
    {
     "name": "stdout",
     "output_type": "stream",
     "text": [
      "__get__\n"
     ]
    },
    {
     "data": {
      "text/plain": [
       "<__main__.A at 0x7ff8a7637be0>"
      ]
     },
     "execution_count": 128,
     "metadata": {},
     "output_type": "execute_result"
    }
   ],
   "source": [
    "B.x #__get__"
   ]
  },
  {
   "cell_type": "code",
   "execution_count": null,
   "metadata": {},
   "outputs": [],
   "source": [
    "#實例的__dict__優先於非數據描述器，數據描述器優先於實例的__dict__"
   ]
  },
  {
   "cell_type": "markdown",
   "metadata": {},
   "source": [
    "# 3. 结合本周所学内容，实现如下类："
   ]
  },
  {
   "cell_type": "markdown",
   "metadata": {},
   "source": [
    "<br>\n",
    "   class Ob:<br>\n",
    "     pass<br>\n",
    "     \n",
    "   执行以下操作：<br>\n",
    "   a = Ob('tom')<br>\n",
    "   b = Ob('tom')<br>\n",
    "   print('a: ', a)<br>\n",
    "   \n",
    "   a[0] = 'a'<br>\n",
    "   print('a:', a)<br>\n",
    "   a * 3<br>\n",
    "   print('len: ', len(a))<br>\n",
    "   del a[1]<br>\n",
    "   print('a: ', a)<br>\n",
    "   print('set: ', {a, b})<br>\n",
    "   \n",
    "   其输出如下：<br>\n",
    "   a:  ['1', '2']<br>\n",
    "   a: ['a', '2']<br>\n",
    "   len:  6<br>\n",
    "   a:  ['a', 'a', '2', 'a', '2']<br>\n",
    "   set:  {<Ob name=tom items=['a', 'a', '2', 'a', '2']>}<br>"
   ]
  },
  {
   "cell_type": "code",
   "execution_count": 448,
   "metadata": {},
   "outputs": [],
   "source": [
    "class Ob:\n",
    "    def __init__(self,name):\n",
    "        self.name = name\n",
    "        self.items = []\n",
    "    \n",
    "    def __add__(self,item):\n",
    "        self.items.append(item)\n",
    "        return self\n",
    "        \n",
    "    def __setitem__(self,index,value):\n",
    "        self.items[index] = value\n",
    "    \n",
    "    def __mul__(self,n):\n",
    "        self.items = self.items*n\n",
    "    \n",
    "    def __len__(self):\n",
    "        return len(self.items)\n",
    "    \n",
    "    def __delitem__(self,index):\n",
    "        self.items = self.items[:index] + self.items[index+1:]\n",
    "        \n",
    "    def __iter__(self):\n",
    "        return iter(self.items)\n",
    "    \n",
    "    def __hash__(self):\n",
    "        return True\n",
    "    \n",
    "    def __eq__(self,other):\n",
    "        #if set(self) == set(other):\n",
    "        return True\n",
    "        #else:\n",
    "            #return False\n",
    "        \n",
    "    def __repr__(self): \n",
    "        return \"<{} name = {} items = {}\".format(self.__class__.__name__,self.name,self.items)\n",
    "    \n",
    "    def __str__(self):\n",
    "        return \"{}\".format(self.items)"
   ]
  },
  {
   "cell_type": "code",
   "execution_count": 449,
   "metadata": {},
   "outputs": [
    {
     "data": {
      "text/plain": [
       "<Ob name = tom items = ['a', '2']"
      ]
     },
     "execution_count": 449,
     "metadata": {},
     "output_type": "execute_result"
    }
   ],
   "source": [
    "a = Ob('tom')\n",
    "b = Ob('tom')\n",
    "a+'1'+'2'\n",
    "b+'a'+'2'"
   ]
  },
  {
   "cell_type": "code",
   "execution_count": 450,
   "metadata": {},
   "outputs": [
    {
     "name": "stdout",
     "output_type": "stream",
     "text": [
      "a: ['1', '2']\n"
     ]
    }
   ],
   "source": [
    "print('a:',a)"
   ]
  },
  {
   "cell_type": "code",
   "execution_count": 451,
   "metadata": {},
   "outputs": [
    {
     "name": "stdout",
     "output_type": "stream",
     "text": [
      "a: ['a', '2']\n"
     ]
    }
   ],
   "source": [
    "a[0] = 'a'\n",
    "print('a:',a)"
   ]
  },
  {
   "cell_type": "code",
   "execution_count": 452,
   "metadata": {},
   "outputs": [
    {
     "name": "stdout",
     "output_type": "stream",
     "text": [
      "['a', '2', 'a', '2', 'a', '2']\n"
     ]
    }
   ],
   "source": [
    "a*3\n",
    "print(a)"
   ]
  },
  {
   "cell_type": "code",
   "execution_count": 453,
   "metadata": {},
   "outputs": [
    {
     "name": "stdout",
     "output_type": "stream",
     "text": [
      "len:  6\n"
     ]
    }
   ],
   "source": [
    "print('len: ',len(a))"
   ]
  },
  {
   "cell_type": "code",
   "execution_count": 454,
   "metadata": {},
   "outputs": [
    {
     "name": "stdout",
     "output_type": "stream",
     "text": [
      "['a', 'a', '2', 'a', '2']\n"
     ]
    }
   ],
   "source": [
    "del a[1]\n",
    "print(a)"
   ]
  },
  {
   "cell_type": "code",
   "execution_count": 455,
   "metadata": {},
   "outputs": [
    {
     "name": "stdout",
     "output_type": "stream",
     "text": [
      "set: {<Ob name = tom items = ['a', 'a', '2', 'a', '2']}\n"
     ]
    }
   ],
   "source": [
    "print('set:',{a,b})"
   ]
  },
  {
   "cell_type": "code",
   "execution_count": null,
   "metadata": {},
   "outputs": [],
   "source": []
  },
  {
   "cell_type": "markdown",
   "metadata": {},
   "source": [
    "練習<br>\n",
    "Property裝飾器"
   ]
  },
  {
   "cell_type": "code",
   "execution_count": 201,
   "metadata": {},
   "outputs": [],
   "source": [
    "from functools import partial\n",
    "\n",
    "class Property:\n",
    "    def __init__(self,func):\n",
    "        self.func = func\n",
    "        self.d = {}\n",
    "        \n",
    "    def __get__(self,instance,owner):\n",
    "        #print(\"get\")\n",
    "        return self.func(instance)\n",
    "    \n",
    "    def __set__(self,instance,value):\n",
    "        print(\"Set\")\n",
    "        print(value)\n",
    "        return partial(self.func,instance)\n",
    "    \n",
    "    #def __call__(self,value):\n",
    "        #eturn self.func(value)\n",
    "\n",
    "class A:\n",
    "    def __init__(self,data):\n",
    "        self.data = data\n",
    "        \n",
    "    @Property   \n",
    "    def data(self):    #data = Property(data) \n",
    "        #pass\n",
    "        return self.data\n",
    "        print(\"------------\")\n",
    "    #@data.setter\n",
    "    #def data(self,value):\n",
    "        #self.data = vaue"
   ]
  },
  {
   "cell_type": "code",
   "execution_count": 202,
   "metadata": {},
   "outputs": [
    {
     "name": "stdout",
     "output_type": "stream",
     "text": [
      "Set\n",
      "abc\n"
     ]
    }
   ],
   "source": [
    "a = A('abc')\n"
   ]
  },
  {
   "cell_type": "code",
   "execution_count": 203,
   "metadata": {},
   "outputs": [
    {
     "ename": "RecursionError",
     "evalue": "maximum recursion depth exceeded while calling a Python object",
     "output_type": "error",
     "traceback": [
      "\u001b[0;31m---------------------------------------------------------------------------\u001b[0m",
      "\u001b[0;31mRecursionError\u001b[0m                            Traceback (most recent call last)",
      "\u001b[0;32m<ipython-input-203-9b9edf4dc236>\u001b[0m in \u001b[0;36m<module>\u001b[0;34m\u001b[0m\n\u001b[0;32m----> 1\u001b[0;31m \u001b[0ma\u001b[0m\u001b[0;34m.\u001b[0m\u001b[0mdata\u001b[0m\u001b[0;34m\u001b[0m\u001b[0;34m\u001b[0m\u001b[0m\n\u001b[0m",
      "\u001b[0;32m<ipython-input-201-99d4162f9b50>\u001b[0m in \u001b[0;36m__get__\u001b[0;34m(self, instance, owner)\u001b[0m\n\u001b[1;32m      8\u001b[0m     \u001b[0;32mdef\u001b[0m \u001b[0m__get__\u001b[0m\u001b[0;34m(\u001b[0m\u001b[0mself\u001b[0m\u001b[0;34m,\u001b[0m\u001b[0minstance\u001b[0m\u001b[0;34m,\u001b[0m\u001b[0mowner\u001b[0m\u001b[0;34m)\u001b[0m\u001b[0;34m:\u001b[0m\u001b[0;34m\u001b[0m\u001b[0;34m\u001b[0m\u001b[0m\n\u001b[1;32m      9\u001b[0m         \u001b[0;31m#print(\"get\")\u001b[0m\u001b[0;34m\u001b[0m\u001b[0;34m\u001b[0m\u001b[0;34m\u001b[0m\u001b[0m\n\u001b[0;32m---> 10\u001b[0;31m         \u001b[0;32mreturn\u001b[0m \u001b[0mself\u001b[0m\u001b[0;34m.\u001b[0m\u001b[0mfunc\u001b[0m\u001b[0;34m(\u001b[0m\u001b[0minstance\u001b[0m\u001b[0;34m)\u001b[0m\u001b[0;34m\u001b[0m\u001b[0;34m\u001b[0m\u001b[0m\n\u001b[0m\u001b[1;32m     11\u001b[0m \u001b[0;34m\u001b[0m\u001b[0m\n\u001b[1;32m     12\u001b[0m     \u001b[0;32mdef\u001b[0m \u001b[0m__set__\u001b[0m\u001b[0;34m(\u001b[0m\u001b[0mself\u001b[0m\u001b[0;34m,\u001b[0m\u001b[0minstance\u001b[0m\u001b[0;34m,\u001b[0m\u001b[0mvalue\u001b[0m\u001b[0;34m)\u001b[0m\u001b[0;34m:\u001b[0m\u001b[0;34m\u001b[0m\u001b[0;34m\u001b[0m\u001b[0m\n",
      "\u001b[0;32m<ipython-input-201-99d4162f9b50>\u001b[0m in \u001b[0;36mdata\u001b[0;34m(self)\u001b[0m\n\u001b[1;32m     24\u001b[0m     \u001b[0;32mdef\u001b[0m \u001b[0mdata\u001b[0m\u001b[0;34m(\u001b[0m\u001b[0mself\u001b[0m\u001b[0;34m)\u001b[0m\u001b[0;34m:\u001b[0m    \u001b[0;31m#data = Property(data)\u001b[0m\u001b[0;34m\u001b[0m\u001b[0;34m\u001b[0m\u001b[0m\n\u001b[1;32m     25\u001b[0m         \u001b[0;31m#pass\u001b[0m\u001b[0;34m\u001b[0m\u001b[0;34m\u001b[0m\u001b[0;34m\u001b[0m\u001b[0m\n\u001b[0;32m---> 26\u001b[0;31m         \u001b[0;32mreturn\u001b[0m \u001b[0mself\u001b[0m\u001b[0;34m.\u001b[0m\u001b[0mdata\u001b[0m\u001b[0;34m\u001b[0m\u001b[0;34m\u001b[0m\u001b[0m\n\u001b[0m\u001b[1;32m     27\u001b[0m         \u001b[0mprint\u001b[0m\u001b[0;34m(\u001b[0m\u001b[0;34m\"------------\"\u001b[0m\u001b[0;34m)\u001b[0m\u001b[0;34m\u001b[0m\u001b[0;34m\u001b[0m\u001b[0m\n\u001b[1;32m     28\u001b[0m     \u001b[0;31m#@data.setter\u001b[0m\u001b[0;34m\u001b[0m\u001b[0;34m\u001b[0m\u001b[0;34m\u001b[0m\u001b[0m\n",
      "... last 2 frames repeated, from the frame below ...\n",
      "\u001b[0;32m<ipython-input-201-99d4162f9b50>\u001b[0m in \u001b[0;36m__get__\u001b[0;34m(self, instance, owner)\u001b[0m\n\u001b[1;32m      8\u001b[0m     \u001b[0;32mdef\u001b[0m \u001b[0m__get__\u001b[0m\u001b[0;34m(\u001b[0m\u001b[0mself\u001b[0m\u001b[0;34m,\u001b[0m\u001b[0minstance\u001b[0m\u001b[0;34m,\u001b[0m\u001b[0mowner\u001b[0m\u001b[0;34m)\u001b[0m\u001b[0;34m:\u001b[0m\u001b[0;34m\u001b[0m\u001b[0;34m\u001b[0m\u001b[0m\n\u001b[1;32m      9\u001b[0m         \u001b[0;31m#print(\"get\")\u001b[0m\u001b[0;34m\u001b[0m\u001b[0;34m\u001b[0m\u001b[0;34m\u001b[0m\u001b[0m\n\u001b[0;32m---> 10\u001b[0;31m         \u001b[0;32mreturn\u001b[0m \u001b[0mself\u001b[0m\u001b[0;34m.\u001b[0m\u001b[0mfunc\u001b[0m\u001b[0;34m(\u001b[0m\u001b[0minstance\u001b[0m\u001b[0;34m)\u001b[0m\u001b[0;34m\u001b[0m\u001b[0;34m\u001b[0m\u001b[0m\n\u001b[0m\u001b[1;32m     11\u001b[0m \u001b[0;34m\u001b[0m\u001b[0m\n\u001b[1;32m     12\u001b[0m     \u001b[0;32mdef\u001b[0m \u001b[0m__set__\u001b[0m\u001b[0;34m(\u001b[0m\u001b[0mself\u001b[0m\u001b[0;34m,\u001b[0m\u001b[0minstance\u001b[0m\u001b[0;34m,\u001b[0m\u001b[0mvalue\u001b[0m\u001b[0;34m)\u001b[0m\u001b[0;34m:\u001b[0m\u001b[0;34m\u001b[0m\u001b[0;34m\u001b[0m\u001b[0m\n",
      "\u001b[0;31mRecursionError\u001b[0m: maximum recursion depth exceeded while calling a Python object"
     ]
    }
   ],
   "source": [
    "a.data"
   ]
  },
  {
   "cell_type": "code",
   "execution_count": null,
   "metadata": {},
   "outputs": [],
   "source": []
  }
 ],
 "metadata": {
  "kernelspec": {
   "display_name": "Python 3",
   "language": "python",
   "name": "python3"
  },
  "language_info": {
   "codemirror_mode": {
    "name": "ipython",
    "version": 3
   },
   "file_extension": ".py",
   "mimetype": "text/x-python",
   "name": "python",
   "nbconvert_exporter": "python",
   "pygments_lexer": "ipython3",
   "version": "3.6.8"
  }
 },
 "nbformat": 4,
 "nbformat_minor": 2
}

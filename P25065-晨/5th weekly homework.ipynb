{
 "cells": [
  {
   "cell_type": "markdown",
   "metadata": {},
   "source": [
    "# 1. 如何为函数定义keyword-only参数（写出个例子即可）？"
   ]
  },
  {
   "cell_type": "code",
   "execution_count": 8,
   "metadata": {},
   "outputs": [
    {
     "data": {
      "text/plain": [
       "-2"
      ]
     },
     "execution_count": 8,
     "metadata": {},
     "output_type": "execute_result"
    }
   ],
   "source": [
    "def fn(x=1,y=2,*args,a,b):\n",
    "    return x+y-a-b\n",
    "fn(2,3,a=3,b=4)"
   ]
  },
  {
   "cell_type": "code",
   "execution_count": 9,
   "metadata": {},
   "outputs": [
    {
     "data": {
      "text/plain": [
       "-2"
      ]
     },
     "execution_count": 9,
     "metadata": {},
     "output_type": "execute_result"
    }
   ],
   "source": [
    "def fn(x=1,y=2,*,a,b):\n",
    "    return x+y-a-b\n",
    "fn(2,3,a=3,b=4)"
   ]
  },
  {
   "cell_type": "markdown",
   "metadata": {},
   "source": [
    "a,b 是keyword-only.<br>keyword-only在 *arg之后，输入时必须要指定a和b的值，*args也可以写成*"
   ]
  },
  {
   "cell_type": "markdown",
   "metadata": {},
   "source": [
    "# 2. 什么是LEGB，请解释"
   ]
  },
  {
   "cell_type": "markdown",
   "metadata": {},
   "source": [
    "\n",
    "LEGB: <br>\n",
    "local,本地作用域的空间变量名，函数调用是创建，调用结束消亡<br>\n",
    "enclosing,嵌套函数外部的函数空间命名，就是闭包<br>\n",
    "global,全局作用域，模块被import时创建，解释器退出时消亡<br>\n",
    "built-in,内置模块，解释器启动时创建，解释器退出时消亡<br>"
   ]
  },
  {
   "cell_type": "markdown",
   "metadata": {},
   "source": [
    "# 3. 二叉树的性质"
   ]
  },
  {
   "cell_type": "markdown",
   "metadata": {},
   "source": [
    "满二叉树 k为深度，则节点总数为2^k-1<br>\n",
    "在二叉树的第k层上最多有2^(k-1)个结点<br>\n",
    "深度为k的二叉树，最多有2^k-1个节点<br>\n",
    "对于任何一个二叉树，终端节点数为n0，度数为2的节点为n2，则n0=n2+1<br>\n",
    "高度为k的二叉树，至少有k个结点<br>\n",
    "含有n的节点的二叉树的高度最多为n，最小为math.ceil(log2(n+1))<br>\n",
    "h为层数，2^h-1=n ， h=log2(n+1)，层数向上取整  ,或者h=int(log2(n))+1<br>\n"
   ]
  },
  {
   "cell_type": "markdown",
   "metadata": {},
   "source": [
    "把完全二叉树的每个节点编号，从根开始从左向右编号i。i=1是二叉树的根，无双亲。<br>\n",
    "如果i>1，则其双亲是int（i/2），向下取整。<br>\n",
    "如果父结点是i,那么左孩子节点就是2i，右孩子节点就是2i+1.<br>\n",
    "如果2i>n,则节点i无左孩子，即为终点；否则其左孩子节点为2i。<br>\n",
    "如果2i+1>n,则节点i无右孩子；否则有孩子的节点为2i+1<br>"
   ]
  },
  {
   "cell_type": "markdown",
   "metadata": {},
   "source": [
    "# 4. 使用本周学习的技术改造第二周的计算器实现，其目标如下：\n",
    "     1. 运行后提示让用户输入一个数字\n",
    "     2. 提示输入操作符（+ - * /）\n",
    "     3. 再次提示输入一个数字\n",
    "     4. 打印计算结果\n",
    "     5. 在不退出程序的前提下，可以允许用户继续输入新一组数据计\n",
    "     6. 尽可能改善用户体验（新需求） "
   ]
  },
  {
   "cell_type": "code",
   "execution_count": 19,
   "metadata": {},
   "outputs": [
    {
     "name": "stdout",
     "output_type": "stream",
     "text": [
      "first number: 9\n",
      "+ - * /: +\n",
      "second number: 5\n",
      "result :  14.0\n",
      "Would you like to play again? (y/n)y\n",
      "first number: 8\n",
      "+ - * /: r\n",
      "+ - * /: -\n",
      "second number: 6\n",
      "result :  2.0\n",
      "Would you like to play again? (y/n)n\n"
     ]
    }
   ],
   "source": [
    "init = 'y'\n",
    "while init == 'y':\n",
    "    a = float(input('first number: ').lstrip(' 0'))\n",
    "    s = input('+ - * /: ').strip(' ')\n",
    "    while s not in '+-*/':\n",
    "        s =  input('+ - * /: ').strip(' ')\n",
    "    b = float(input('second number: ').lstrip(' 0'))\n",
    "    if s == '+':\n",
    "        result = a + b\n",
    "    elif s == '-':\n",
    "        result = a - b\n",
    "    elif s == '*':\n",
    "        result = a * b\n",
    "    else:\n",
    "        result = a/b\n",
    "    print('result : ',result)\n",
    "    init = input('Would you like to play again? (y/n)')\n",
    "    if init == 'n':\n",
    "        break"
   ]
  },
  {
   "cell_type": "code",
   "execution_count": null,
   "metadata": {},
   "outputs": [],
   "source": []
  },
  {
   "cell_type": "code",
   "execution_count": null,
   "metadata": {},
   "outputs": [],
   "source": []
  },
  {
   "cell_type": "code",
   "execution_count": null,
   "metadata": {},
   "outputs": [],
   "source": []
  }
 ],
 "metadata": {
  "kernelspec": {
   "display_name": "Python 3",
   "language": "python",
   "name": "python3"
  },
  "language_info": {
   "codemirror_mode": {
    "name": "ipython",
    "version": 3
   },
   "file_extension": ".py",
   "mimetype": "text/x-python",
   "name": "python",
   "nbconvert_exporter": "python",
   "pygments_lexer": "ipython3",
   "version": "3.6.8"
  }
 },
 "nbformat": 4,
 "nbformat_minor": 2
}

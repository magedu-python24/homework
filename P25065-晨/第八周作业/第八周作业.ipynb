{
 "cells": [
  {
   "cell_type": "markdown",
   "metadata": {},
   "source": [
    "# 1. 使用本周和之前所学习的知识实现cat命令（支持查看内容和-n参数功能即可）"
   ]
  },
  {
   "cell_type": "markdown",
   "metadata": {},
   "source": [
    "在cat_argparse.py 文件里"
   ]
  },
  {
   "cell_type": "markdown",
   "metadata": {},
   "source": [
    "# 2. 有字符串”not 404 found 张三 99 深圳”，使用正则过滤掉英文和数字，最终得到”张三 深圳”"
   ]
  },
  {
   "cell_type": "code",
   "execution_count": 2,
   "metadata": {},
   "outputs": [],
   "source": [
    "string = 'not 404 found 张三 99 深圳'"
   ]
  },
  {
   "cell_type": "code",
   "execution_count": 12,
   "metadata": {},
   "outputs": [],
   "source": [
    "import re\n",
    "pattern = '[^A-Za-z0-9]+'\n",
    "regex = re.compile(pattern)\n",
    "matcher = regex.finditer(string)"
   ]
  },
  {
   "cell_type": "code",
   "execution_count": 15,
   "metadata": {},
   "outputs": [
    {
     "name": "stdout",
     "output_type": "stream",
     "text": [
      " \n",
      " \n",
      " 张三 \n",
      " 深圳\n"
     ]
    }
   ],
   "source": [
    "for x in matcher:\n",
    "    print(x)"
   ]
  },
  {
   "cell_type": "markdown",
   "metadata": {},
   "source": [
    "# 3. 结合本周所讲的知识，总结如何设计一个日志分析系统，分析可能遇到问题和解决方法（文字阐述）。 "
   ]
  },
  {
   "cell_type": "markdown",
   "metadata": {},
   "source": [
    "首先日志文件的内容在记录的时候要规整以方便提取统计<br>\n",
    "滑动窗口的间隔时间(interval)和统计时间(witdth),比如每隔五秒（interval）我要收集前十秒（width）的数据，会有重叠<br>\n",
    "再者就是要有消息队列（queue fifo）对数据进行缓冲解耦的控制，多个数据消费者要各自拥有同样的queue,以确保每个消费者处理的是同一组数据。<br>\n",
    "在分发数据的时候要用到多线程操作，多线程会让数据消费者各自处理数据，不会因为一个阻塞而阻塞全部<br>\n",
    "最后是对数据内容的解读，比如收集的user-agent信息可以统计出用户使用的浏览器信息<br>\n",
    "\n",
    "可能遇到的困难：比如日志的格式凌乱而难以提取数据<br>"
   ]
  },
  {
   "cell_type": "code",
   "execution_count": null,
   "metadata": {},
   "outputs": [],
   "source": []
  }
 ],
 "metadata": {
  "kernelspec": {
   "display_name": "Python 3",
   "language": "python",
   "name": "python3"
  },
  "language_info": {
   "codemirror_mode": {
    "name": "ipython",
    "version": 3
   },
   "file_extension": ".py",
   "mimetype": "text/x-python",
   "name": "python",
   "nbconvert_exporter": "python",
   "pygments_lexer": "ipython3",
   "version": "3.6.8"
  }
 },
 "nbformat": 4,
 "nbformat_minor": 2
}

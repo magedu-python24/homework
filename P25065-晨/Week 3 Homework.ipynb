{
 "cells": [
  {
   "cell_type": "markdown",
   "metadata": {},
   "source": [
    "# 1. 简要说明Python垃圾回收机制"
   ]
  },
  {
   "cell_type": "markdown",
   "metadata": {},
   "source": [
    "Python 采用引用计数机制 <br>\n",
    "程序中的一个变量或其他对象引用了目标对象，Python将会增加这个计数值，而当程序停止使用这个对象，则Python会减少这个计数值 <br>\n",
    "一旦计数值被减到零，Python将会释放这个对象以及回收相关内存空间。"
   ]
  },
  {
   "cell_type": "markdown",
   "metadata": {},
   "source": [
    "# 2. 什么是斐波那契数列、素数、质数和猴子吃桃问题（文字说明即可）？"
   ]
  },
  {
   "cell_type": "markdown",
   "metadata": {},
   "source": [
    "斐波那契数列的最初两个数字为 0 , 1。 之后每个数字都是前面两个数字之和"
   ]
  },
  {
   "cell_type": "markdown",
   "metadata": {},
   "source": [
    "质数又称素数，是指仅能被1和自身整除的而且大于一的整数"
   ]
  },
  {
   "cell_type": "markdown",
   "metadata": {},
   "source": [
    "猴子吃桃子问题：猴子第一天摘下若干个桃子，当即吃了一半，又多吃一个。第二天又将剩下的桃子吃掉一半，又多吃一个<br>以后每天都吃了前一天剩下的一半零一个。到第十天，只剩下一个。求第一天共摘了多少个桃子？<br>\n",
    "从后往前推到可得：前一天的数量 = 2 x (今天的数量 + 1），今天的数量初始值为 1。 循环9天，因为第十天猴子没得吃"
   ]
  },
  {
   "cell_type": "markdown",
   "metadata": {},
   "source": [
    "# 3. 请写出列表支持的所有方法及说明（例如: append 向列表末尾添加元素）"
   ]
  },
  {
   "cell_type": "code",
   "execution_count": 18,
   "metadata": {},
   "outputs": [],
   "source": [
    "ls = list([1,2,2,3])"
   ]
  },
  {
   "cell_type": "code",
   "execution_count": 35,
   "metadata": {},
   "outputs": [
    {
     "data": {
      "text/plain": [
       "['__add__',\n",
       " '__class__',\n",
       " '__contains__',\n",
       " '__delattr__',\n",
       " '__delitem__',\n",
       " '__dir__',\n",
       " '__doc__',\n",
       " '__eq__',\n",
       " '__format__',\n",
       " '__ge__',\n",
       " '__getattribute__',\n",
       " '__getitem__',\n",
       " '__gt__',\n",
       " '__hash__',\n",
       " '__iadd__',\n",
       " '__imul__',\n",
       " '__init__',\n",
       " '__init_subclass__',\n",
       " '__iter__',\n",
       " '__le__',\n",
       " '__len__',\n",
       " '__lt__',\n",
       " '__mul__',\n",
       " '__ne__',\n",
       " '__new__',\n",
       " '__reduce__',\n",
       " '__reduce_ex__',\n",
       " '__repr__',\n",
       " '__reversed__',\n",
       " '__rmul__',\n",
       " '__setattr__',\n",
       " '__setitem__',\n",
       " '__sizeof__',\n",
       " '__str__',\n",
       " '__subclasshook__',\n",
       " 'append',\n",
       " 'clear',\n",
       " 'copy',\n",
       " 'count',\n",
       " 'extend',\n",
       " 'index',\n",
       " 'insert',\n",
       " 'pop',\n",
       " 'remove',\n",
       " 'reverse',\n",
       " 'sort']"
      ]
     },
     "execution_count": 35,
     "metadata": {},
     "output_type": "execute_result"
    }
   ],
   "source": [
    "dir(ls)"
   ]
  },
  {
   "cell_type": "code",
   "execution_count": 32,
   "metadata": {},
   "outputs": [],
   "source": [
    "ls.sort?"
   ]
  },
  {
   "cell_type": "markdown",
   "metadata": {},
   "source": [
    "append: append object to end。在列表最后追加元素 <br>\n",
    "clear: remove all items from list. 删除列表中所有元素 <br>\n",
    "copy：a shallow copy of list. 浅拷贝：两个列表指向同一个对象\n",
    "count: return number of occurrences of value.查出某元素出现的次数\n",
    "extend:extend list by appending elements from the iterable.与append不同，extend可以用迭代 例如：ls.extend(range(5)) <br>\n",
    "index: return first index of value. 查出第一个输入元素的索引号码<br>\n",
    "insert：insert object before index. 在输入的索引位置插入一个元素，其他元素向后移<br>\n",
    "pop: remove and return item at index (default last).删除而且返回被删除的元素,默认删除最后一个元素<br>\n",
    "reverse: reverse *IN PLACE*. 倒置列表中元素的顺序，就地修改\n",
    "sort：stable sort *IN PLACE*. 默认从小到大排序，就地修改"
   ]
  },
  {
   "cell_type": "markdown",
   "metadata": {},
   "source": [
    "# 4. 实现一个简易的计算器，效果如下：\n",
    "    （1）. 运行后提示让用户输入一个数字\n",
    "    （2）. 提示输入操作符（+ - * /）\n",
    "    （3）. 再次提示输入一个数字\n",
    "    （4）. 打印计算结果\n",
    "    （5）. 在不退出程序的前提下，可以允许用户继续输入新一组数据计 "
   ]
  },
  {
   "cell_type": "code",
   "execution_count": 37,
   "metadata": {},
   "outputs": [],
   "source": [
    "while True:\n",
    "    a = float(input(\"first: \"))\n",
    "    operation = input(\" + - * /: \")\n",
    "    b = float(input(\"second: \"))\n",
    "    if operation == '+':\n",
    "        print(a+b)\n",
    "    elif operation == '-':\n",
    "        print(a-b)\n",
    "    elif operation == '*':\n",
    "        print(a*b)\n",
    "    else:\n",
    "        print(a/b)"
   ]
  },
  {
   "cell_type": "code",
   "execution_count": 40,
   "metadata": {},
   "outputs": [
    {
     "data": {
      "text/plain": [
       "'/home/python/magedu/projects/web/Mage-Python'"
      ]
     },
     "execution_count": 40,
     "metadata": {},
     "output_type": "execute_result"
    }
   ],
   "source": [
    "pwd"
   ]
  },
  {
   "cell_type": "code",
   "execution_count": null,
   "metadata": {},
   "outputs": [],
   "source": []
  }
 ],
 "metadata": {
  "kernelspec": {
   "display_name": "Python 3",
   "language": "python",
   "name": "python3"
  },
  "language_info": {
   "codemirror_mode": {
    "name": "ipython",
    "version": 3
   },
   "file_extension": ".py",
   "mimetype": "text/x-python",
   "name": "python",
   "nbconvert_exporter": "python",
   "pygments_lexer": "ipython3",
   "version": "3.6.6"
  }
 },
 "nbformat": 4,
 "nbformat_minor": 2
}
